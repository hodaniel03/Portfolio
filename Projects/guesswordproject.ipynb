{
 "cells": [
  {
   "cell_type": "code",
   "execution_count": 1,
   "metadata": {
    "pycharm": {
     "name": "#%%\n"
    }
   },
   "outputs": [],
   "source": [
    "import random\n",
    "import tkinter as tk\n",
    "from tkinter import simpledialog\n"
   ]
  },
  {
   "cell_type": "code",
   "execution_count": 2,
   "metadata": {
    "pycharm": {
     "name": "#%%\n"
    }
   },
   "outputs": [],
   "source": [
    "\n",
    "def update_word_label(word_var, word, guesses):\n",
    "    display_word = \" \".join([char if char in guesses else \"_\" for char in word])\n",
    "    word_var.set(display_word)\n"
   ]
  },
  {
   "cell_type": "code",
   "execution_count": 3,
   "metadata": {
    "pycharm": {
     "name": "#%%\n"
    }
   },
   "outputs": [],
   "source": [
    "\n",
    "def make_guess(entry, word, guesses, turns, info_label, word_var, name):\n",
    "\n",
    "    guess = entry.get()\n",
    "    entry.delete(0, tk.END)\n",
    "    \n",
    "    if len(guess) == 1 and guess.isalpha():\n",
    "        if guess in word:\n",
    "            guesses.append(guess)\n",
    "            update_word_label(word_var, word, guesses)\n",
    "            if \"_\" not in word_var.get():\n",
    "                info_label.config(text=f\"{name}, You Win! The word was: \" + word)\n",
    "        else:\n",
    "            turns[0] -= 1\n",
    "            if turns[0] > 0:\n",
    "                info_label.config(text=f\"Wrong! {turns[0]} turns remaining.\")\n",
    "            else:\n",
    "                info_label.config(text=f\"{name}, You Lose! The word was: \" + word)\n",
    "    else:\n",
    "        info_label.config(text=\"Please enter a single letter.\")\n"
   ]
  },
  {
   "cell_type": "code",
   "execution_count": 4,
   "metadata": {
    "pycharm": {
     "name": "#%%\n"
    }
   },
   "outputs": [],
   "source": [
    "\n",
    "def hangman_game():\n",
    "    window = tk.Tk()\n",
    "    window.title(\"Hangman\")\n",
    "    window.geometry(\"300x250\")\n",
    "\n",
    "    word = random.choice(['rainbow', 'computer', 'science', 'programming', \n",
    "                          'python', 'mathematics', 'player', 'condition', \n",
    "                          'reverse', 'water', 'board', 'geeks'])\n",
    "    guesses = []\n",
    "    turns = [12]\n",
    "\n",
    "    name = simpledialog.askstring(\"Input\", \"What is your name?\", parent=window)\n",
    "    if not name:\n",
    "        name = \"Player\"\n",
    "\n",
    "    tk.Label(window, text=f\"Welcome to Hangman, {name}! Guess the word.\").pack(pady=10)\n",
    "\n",
    "    word_var = tk.StringVar()\n",
    "    tk.Label(window, textvariable=word_var, font=(\"Helvetica\", 16)).pack(pady=10)\n",
    "    update_word_label(word_var, word, guesses)\n",
    "\n",
    "    entry = tk.Entry(window)\n",
    "    entry.pack(pady=10)\n",
    "    entry.bind(\"<Return>\", lambda event: make_guess(entry, word, guesses, turns, info_label, word_var, name))\n",
    "\n",
    "    info_label = tk.Label(window, text=\"\")\n",
    "    info_label.pack(pady=10)\n",
    "\n",
    "    window.mainloop()\n"
   ]
  },
  {
   "cell_type": "code",
   "execution_count": 5,
   "metadata": {
    "pycharm": {
     "name": "#%%\n"
    }
   },
   "outputs": [],
   "source": [
    "\n",
    "if __name__ == \"__main__\":\n",
    "    hangman_game()\n",
    "\n",
    "\n"
   ]
  },
  {
   "cell_type": "code",
   "execution_count": null,
   "metadata": {
    "pycharm": {
     "name": "#%%\n"
    }
   },
   "outputs": [],
   "source": []
  }
 ],
 "metadata": {
  "kernelspec": {
   "display_name": "Python 3",
   "language": "python",
   "name": "python3"
  },
  "language_info": {
   "codemirror_mode": {
    "name": "ipython",
    "version": 3
   },
   "file_extension": ".py",
   "mimetype": "text/x-python",
   "name": "python",
   "nbconvert_exporter": "python",
   "pygments_lexer": "ipython3",
   "version": "3.10.6"
  },
  "orig_nbformat": 4
 },
 "nbformat": 4,
 "nbformat_minor": 2
}